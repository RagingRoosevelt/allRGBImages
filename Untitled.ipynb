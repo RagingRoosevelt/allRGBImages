{
 "cells": [
  {
   "cell_type": "code",
   "execution_count": 18,
   "metadata": {
    "collapsed": true
   },
   "outputs": [],
   "source": [
    "from random import randint\n",
    "from Color import Color"
   ]
  },
  {
   "cell_type": "code",
   "execution_count": 25,
   "metadata": {},
   "outputs": [
    {
     "data": {
      "text/plain": [
       "8"
      ]
     },
     "execution_count": 25,
     "metadata": {},
     "output_type": "execute_result"
    }
   ],
   "source": [
    "int((2/3)*12)"
   ]
  },
  {
   "cell_type": "code",
   "execution_count": 28,
   "metadata": {},
   "outputs": [
    {
     "name": "stdout",
     "output_type": "stream",
     "text": [
      "[1, 2]\n[3, 4]\n[5, 6]\n[7, 8, 9]\n[10, 11, 12]\n[13, 14, 15]\n"
     ]
    }
   ],
   "source": [
    "down = 3*3\n",
    "up   = 3*2\n",
    "print([i for i in range(1,int(up/3)+1)])\n",
    "print([i for i in range(int(up/3+1),int(2*up/3)+1)])\n",
    "print([i for i in range(int(2*up/3+1),int(3*up/3)+1)])\n",
    "print([i for i in range(up+1, int(up+down/3)+1)])\n",
    "print([i for i in range(int(up+down/3)+1,int(up+2*down/3)+1)])\n",
    "print([i for i in range(int(up+2*down/3)+1,int(up+3*down/3)+1)])"
   ]
  },
  {
   "cell_type": "code",
   "execution_count": 17,
   "metadata": {},
   "outputs": [
    {
     "ename": "NameError",
     "evalue": "name 'c' is not defined",
     "traceback": [
      "\u001b[0;31m---------------------------------------------------------------------------\u001b[0m",
      "\u001b[0;31mNameError\u001b[0m                                 Traceback (most recent call last)",
      "\u001b[0;32m<ipython-input-17-62662d787c2f>\u001b[0m in \u001b[0;36m<module>\u001b[0;34m()\u001b[0m\n\u001b[0;32m----> 1\u001b[0;31m \u001b[0mc\u001b[0m\u001b[1;33m.\u001b[0m\u001b[0mdec\u001b[0m\u001b[1;33m(\u001b[0m\u001b[1;36m1\u001b[0m\u001b[1;33m)\u001b[0m\u001b[1;33m\u001b[0m\u001b[0m\n\u001b[0m\u001b[1;32m      2\u001b[0m \u001b[0mc\u001b[0m\u001b[1;33m.\u001b[0m\u001b[0mrgb\u001b[0m\u001b[1;33m(\u001b[0m\u001b[1;33m)\u001b[0m\u001b[1;33m\u001b[0m\u001b[0m\n",
      "\u001b[0;31mNameError\u001b[0m: name 'c' is not defined"
     ],
     "output_type": "error"
    }
   ],
   "source": [
    "c.dec(1)\n",
    "c.rgb()"
   ]
  },
  {
   "cell_type": "code",
   "execution_count": 6,
   "metadata": {},
   "outputs": [
    {
     "name": "stdout",
     "output_type": "stream",
     "text": [
      "1: (49,101)\n1: (50,101)\n1: (51,101)\n1: (51,100)\n1: (51,99)\n1: (50,99)\n1: (49,99)\n1: (49,100)\n2: (48,102)\n2: (49,102)\n2: (50,102)\n2: (51,102)\n2: (51,98)\n2: (50,98)\n2: (49,98)\n2: (48,98)\n2: (48,101)\n2: (48,100)\n2: (48,99)\n3: (47,103)\n3: (48,103)\n3: (49,103)\n3: (50,103)\n3: (51,103)\n3: (51,97)\n3: (50,97)\n3: (49,97)\n3: (48,97)\n3: (47,97)\n3: (47,102)\n3: (47,101)\n3: (47,100)\n3: (47,99)\n3: (47,98)\n4: (46,104)\n4: (47,104)\n4: (48,104)\n4: (49,104)\n4: (50,104)\n4: (51,104)\n4: (51,96)\n4: (50,96)\n4: (49,96)\n4: (48,96)\n4: (47,96)\n4: (46,96)\n4: (46,103)\n4: (46,102)\n4: (46,101)\n4: (46,100)\n4: (46,99)\n4: (46,98)\n4: (46,97)\n"
     ]
    }
   ],
   "source": [
    "x, y = 50, 100\n",
    "maxX = 52\n",
    "maxY = 105\n",
    "radR = 1\n",
    "while radR < 5:\n",
    "    if y+radR < maxY:\n",
    "        for offX in range(-radR, radR+1):\n",
    "            if offX+x>=0 and offX+x<maxX:\n",
    "                print(\"{}: ({},{})\".format(radR,x+offX,y+radR))\n",
    "    if x+radR < maxX:\n",
    "        for offY in range(-radR+1, radR+1):\n",
    "            if y-offY>=0 and y-offY<maxY:\n",
    "                print(\"{}: ({},{})\".format(radR,x+radR,y-offY))\n",
    "    if y-radR>=0:\n",
    "        for offX in range(-radR+1, radR+1):\n",
    "            if x-offX>=0 and x-offX<maxX:\n",
    "                print(\"{}: ({},{})\".format(radR,x-offX,y-radR))\n",
    "    if x-radR>=0:\n",
    "        for offY in range(-radR+1, radR):\n",
    "            if y-offY>=0 and y-offY<maxY:\n",
    "                print(\"{}: ({},{})\".format(radR,x-radR,y-offY))\n",
    "    radR += 1"
   ]
  },
  {
   "cell_type": "code",
   "execution_count": null,
   "metadata": {},
   "outputs": [],
   "source": [
    ""
   ]
  }
 ],
 "metadata": {
  "kernelspec": {
   "display_name": "Python 3",
   "language": "python",
   "name": "python3"
  },
  "language_info": {
   "codemirror_mode": {
    "name": "ipython",
    "version": 3.0
   },
   "file_extension": ".py",
   "mimetype": "text/x-python",
   "name": "python",
   "nbconvert_exporter": "python",
   "pygments_lexer": "ipython3",
   "version": "3.4.3"
  }
 },
 "nbformat": 4,
 "nbformat_minor": 0
}